{
  "nbformat": 4,
  "nbformat_minor": 0,
  "metadata": {
    "colab": {
      "provenance": [],
      "mount_file_id": "1eVvaBAwBKPwvRVhU2VzG8Mdcdj3Egnyy",
      "authorship_tag": "ABX9TyOPCtgRogXF+2aV/w3aDlmD",
      "include_colab_link": true
    },
    "kernelspec": {
      "name": "python3",
      "display_name": "Python 3"
    },
    "language_info": {
      "name": "python"
    }
  },
  "cells": [
    {
      "cell_type": "markdown",
      "metadata": {
        "id": "view-in-github",
        "colab_type": "text"
      },
      "source": [
        "<a href=\"https://colab.research.google.com/github/RubeenaKhatun/ML_Algorithms/blob/main/FPgrowth.ipynb\" target=\"_parent\"><img src=\"https://colab.research.google.com/assets/colab-badge.svg\" alt=\"Open In Colab\"/></a>"
      ]
    },
    {
      "cell_type": "code",
      "execution_count": null,
      "metadata": {
        "id": "RNYyJ34sJxud"
      },
      "outputs": [],
      "source": [
        "\n",
        "import pandas as pd\n",
        "from mlxtend.preprocessing import TransactionEncoder\n",
        "from mlxtend.frequent_patterns import fpgrowth\n",
        "from mlxtend.frequent_patterns import association_rules\n",
        "transactions = pd.read_csv(\"/content/drive/MyDrive/AData.csv\",header=None,keep_default_na=False)\n",
        "ldata = transactions.values.tolist()\n",
        "dataset = [[item for item in list if len(item)>0]for list in ldata]\n",
        "te = TransactionEncoder()\n",
        "te_modified = te.fit(dataset).transform(dataset)\n",
        "df = pd.DataFrame(te_modified,columns=te.columns_)\n",
        "freq_itemsets = fpgrowth(df,min_support=0.33,use_colnames=True)\n",
        "association_rules(freq_itemsets,metric=\"confidence\",min_threshold=0.6)"
      ]
    },
    {
      "cell_type": "code",
      "source": [],
      "metadata": {
        "id": "vuXuO1nOKDn8"
      },
      "execution_count": null,
      "outputs": []
    }
  ]
}