{
  "nbformat": 4,
  "nbformat_minor": 0,
  "metadata": {
    "colab": {
      "provenance": [],
      "authorship_tag": "ABX9TyM1VZfOAa3M/xTcSY9ChUXR",
      "include_colab_link": true
    },
    "kernelspec": {
      "name": "python3",
      "display_name": "Python 3"
    },
    "language_info": {
      "name": "python"
    }
  },
  "cells": [
    {
      "cell_type": "markdown",
      "metadata": {
        "id": "view-in-github",
        "colab_type": "text"
      },
      "source": [
        "<a href=\"https://colab.research.google.com/github/RubeenaKhatun/ML_Algorithms/blob/main/BackPropagation.ipynb\" target=\"_parent\"><img src=\"https://colab.research.google.com/assets/colab-badge.svg\" alt=\"Open In Colab\"/></a>"
      ]
    },
    {
      "cell_type": "code",
      "execution_count": null,
      "metadata": {
        "colab": {
          "base_uri": "https://localhost:8080/"
        },
        "id": "omEBHJqSRncW",
        "outputId": "f6c28a3c-51f4-4d3b-d415-9a86a8825c8f"
      },
      "outputs": [
        {
          "output_type": "stream",
          "name": "stdout",
          "text": [
            "Epoch :  0 \tLoss :  0.29648505677254877\n",
            "Epoch :  1000 \tLoss :  0.23382148889025578\n",
            "Epoch :  2000 \tLoss :  0.13465690284107165\n",
            "Epoch :  3000 \tLoss :  0.029543746491853283\n",
            "Epoch :  4000 \tLoss :  0.011421840039313808\n"
          ]
        }
      ],
      "source": [
        "import numpy as np;\n",
        "def sigmoid(x):\n",
        "  return 1 / (1 + np.exp(-x))\n",
        "def sigmoid_derivative(x):\n",
        "  return sigmoid(x) * (1 - sigmoid(x))\n",
        "input = 2\n",
        "hidden = 3\n",
        "output = 1\n",
        "W1 = np.random.randn(input, hidden)\n",
        "b1 = np.zeros((1, hidden))\n",
        "W2 = np.random.randn(hidden, output)\n",
        "b2 = np.zeros((1, output))\n",
        "X = np.array([[0, 0], [0, 1], [1, 0], [1, 1]])\n",
        "y = np.array([[0], [1], [1], [0]])\n",
        "learning_rate = 0.1\n",
        "epochs = 5000\n",
        "for i in range(epochs):\n",
        "  hidden_layer = sigmoid(np.dot(X, W1) + b1)\n",
        "  output_layer = sigmoid(np.dot(hidden_layer, W2) + b2)\n",
        "  loss = np.mean((output_layer - y) ** 2)\n",
        "  d_output = (output_layer - y) * sigmoid_derivative(np.dot(hidden_layer, W2) + b2)\n",
        "  d_hidden = np.dot(d_output, W2.T) * sigmoid_derivative(np.dot(X, W1) + b1)\n",
        "  W2 -= learning_rate * np.dot(hidden_layer.T, d_output)\n",
        "  b2 -= learning_rate * np.sum(d_output, axis=0, keepdims=True)\n",
        "  W1 -= learning_rate * np.dot(X.T, d_hidden)\n",
        "  b1 -= learning_rate * np.sum(d_hidden, axis=0, keepdims=True)\n",
        "  if i % 1000 == 0:\n",
        "    print(\"Epoch : \",i,\"\\tLoss : \",loss)"
      ]
    },
    {
      "cell_type": "code",
      "source": [],
      "metadata": {
        "id": "y5sTNXrQRpKz"
      },
      "execution_count": null,
      "outputs": []
    }
  ]
}