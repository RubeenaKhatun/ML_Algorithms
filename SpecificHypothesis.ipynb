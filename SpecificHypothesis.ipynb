{
  "nbformat": 4,
  "nbformat_minor": 0,
  "metadata": {
    "colab": {
      "provenance": [],
      "mount_file_id": "10yzfGGEd5YFwzBVvvvBoHBKtzwCq2g7K",
      "authorship_tag": "ABX9TyN2a/kXfeco+qxYmopeayU5",
      "include_colab_link": true
    },
    "kernelspec": {
      "name": "python3",
      "display_name": "Python 3"
    },
    "language_info": {
      "name": "python"
    }
  },
  "cells": [
    {
      "cell_type": "markdown",
      "metadata": {
        "id": "view-in-github",
        "colab_type": "text"
      },
      "source": [
        "<a href=\"https://colab.research.google.com/github/RubeenaKhatun/ML_Algorithms/blob/main/SpecificHypothesis.ipynb\" target=\"_parent\"><img src=\"https://colab.research.google.com/assets/colab-badge.svg\" alt=\"Open In Colab\"/></a>"
      ]
    },
    {
      "cell_type": "code",
      "execution_count": null,
      "metadata": {
        "colab": {
          "base_uri": "https://localhost:8080/"
        },
        "id": "upul3D32K3A_",
        "outputId": "17921318-5ccf-47ef-869d-daf0d90246a3"
      },
      "outputs": [
        {
          "output_type": "stream",
          "name": "stdout",
          "text": [
            "    size color     shape class\n",
            "0    big   red    circle    No\n",
            "1  small   red  triangle    No\n",
            "2  small   red    circle   Yes\n",
            "3    big  blue    circle    No\n",
            "4  small  blue    circle   Yes\n",
            "5    big  blue  triangle   yes\n",
            "6    bug   red  triangle    no\n",
            "['No' 'No' 'Yes' 'No' 'Yes' 'yes' 'no']\n",
            "Initially Specific Hypothesis S0: ['0', '0', '0']\n",
            "\n",
            "Example/Instance 1 is  ['big' 'red' 'circle']\n",
            "NEGATIVE EXAMPLE\n",
            "['0', '0', '0']\n",
            "\n",
            "Example/Instance 2 is  ['small' 'red' 'triangle']\n",
            "NEGATIVE EXAMPLE\n",
            "['0', '0', '0']\n",
            "\n",
            "Example/Instance 3 is  ['small' 'red' 'circle']\n",
            "POSITIVE EXAMPLE\n",
            "['small' 'red' 'circle']\n",
            "\n",
            "Example/Instance 4 is  ['big' 'blue' 'circle']\n",
            "NEGATIVE EXAMPLE\n",
            "['small' 'red' 'circle']\n",
            "\n",
            "Example/Instance 5 is  ['small' 'blue' 'circle']\n",
            "POSITIVE EXAMPLE\n",
            "['small' '?' 'circle']\n",
            "\n",
            "Example/Instance 6 is  ['big' 'blue' 'triangle']\n",
            "NEGATIVE EXAMPLE\n",
            "['small' '?' 'circle']\n",
            "\n",
            "Example/Instance 7 is  ['bug' 'red' 'triangle']\n",
            "NEGATIVE EXAMPLE\n",
            "['small' '?' 'circle']\n",
            "FInal Specific Hypothesis: ['small' '?' 'circle']\n"
          ]
        }
      ],
      "source": [
        "import pandas as pd\n",
        "import numpy as np\n",
        "data = pd.read_csv(\"/content/drive/MyDrive/Data2.csv\")\n",
        "print(data)\n",
        "d = np.array(data)[:,:-1]\n",
        "target = np.array(data)[:,-1]\n",
        "print(target)\n",
        "num_attr = len(data.columns)-1\n",
        "#initialize specific hypothesis\n",
        "S = ['0'] * num_attr\n",
        "print(\"Initially Specific Hypothesis S0:\",S)\n",
        "flag = 0\n",
        "for i, h in enumerate(d):\n",
        "        print(\"\\nExample/Instance\", i+1 , \"is \", h)\n",
        "        if target[i] == \"Yes\":\n",
        "            print(\"POSITIVE EXAMPLE\")\n",
        "            if flag == 0:\n",
        "                S = d[i].copy()\n",
        "                flag = 1\n",
        "            for x in range(num_attr):\n",
        "                if h[x]!= S[x]:\n",
        "                    S[x] = '?'\n",
        "        else:\n",
        "            print(\"NEGATIVE EXAMPLE\")\n",
        "        print(S)\n",
        "print(\"Final Specific Hypothesis:\",S)"
      ]
    },
    {
      "cell_type": "code",
      "source": [],
      "metadata": {
        "id": "O8_vqWYjLAvb"
      },
      "execution_count": null,
      "outputs": []
    }
  ]
}