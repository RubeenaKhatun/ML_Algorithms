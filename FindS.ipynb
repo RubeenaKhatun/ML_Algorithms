{
  "nbformat": 4,
  "nbformat_minor": 0,
  "metadata": {
    "colab": {
      "provenance": [],
      "mount_file_id": "1qyBsr7dtewNV4gNwQSITmqBE7kf2jsF5",
      "authorship_tag": "ABX9TyNG7j7bk9kSQ6wXSFrbxt2u",
      "include_colab_link": true
    },
    "kernelspec": {
      "name": "python3",
      "display_name": "Python 3"
    },
    "language_info": {
      "name": "python"
    }
  },
  "cells": [
    {
      "cell_type": "markdown",
      "metadata": {
        "id": "view-in-github",
        "colab_type": "text"
      },
      "source": [
        "<a href=\"https://colab.research.google.com/github/RubeenaKhatun/ML_Algorithms/blob/main/FindS.ipynb\" target=\"_parent\"><img src=\"https://colab.research.google.com/assets/colab-badge.svg\" alt=\"Open In Colab\"/></a>"
      ]
    },
    {
      "cell_type": "code",
      "execution_count": 1,
      "metadata": {
        "colab": {
          "base_uri": "https://localhost:8080/"
        },
        "id": "MrL2Alx7OVNs",
        "outputId": "9ac8aa3d-7840-4b77-c65a-9761d83cdc38"
      },
      "outputs": [
        {
          "output_type": "stream",
          "name": "stdout",
          "text": [
            "Find-s Result is:  ['?' '?' '?' '?']\n"
          ]
        }
      ],
      "source": [
        "import pandas as pd\n",
        "import numpy as np\n",
        "data = pd.read_csv(\"/content/drive/MyDrive/Data.csv\")\n",
        "attributes = len(data.columns)-1\n",
        "d = np.array(data)[:,:-1]\n",
        "target_concept = np.array(data)[:,-1]\n",
        "def train(d,c):\n",
        "    specific_hypothesis = 0\n",
        "    for i, val in enumerate(c):\n",
        "        if val == \"Yes\":\n",
        "            specific_hypothesis = d[i].copy()\n",
        "            break\n",
        "    for i,example in enumerate(d):\n",
        "        if c[i] == \"Yes\":\n",
        "            for x in range(attributes):\n",
        "                if example[x] != specific_hypothesis[x]:\n",
        "                    specific_hypothesis[x] = '?'\n",
        "    return specific_hypothesis\n",
        "print(\"Find-s Result is: \", train(d,target_concept))"
      ]
    },
    {
      "cell_type": "code",
      "source": [],
      "metadata": {
        "id": "sD0G1ZD2Ops4"
      },
      "execution_count": null,
      "outputs": []
    }
  ]
}